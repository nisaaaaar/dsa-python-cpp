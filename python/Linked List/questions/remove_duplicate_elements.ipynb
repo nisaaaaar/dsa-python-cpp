{
 "cells": [
  {
   "cell_type": "markdown",
   "id": "abbb2bb1",
   "metadata": {},
   "source": [
    "Given the head of a sorted linked list, delete all nodes that have duplicate numbers, leaving only distinct numbers from the original list. Return the linked list sorted as well.\n",
    "\n",
    " \n",
    "\n",
    "Example 1:\n",
    "\n",
    "\n",
    "Input: head = [1,2,3,3,4,4,5]\n",
    "Output: [1,2,5]\n",
    "Example 2:\n",
    "\n",
    "\n",
    "Input: head = [1,1,1,2,3]\n",
    "Output: [2,3]\n",
    " \n",
    "\n",
    "Constraints:\n",
    "\n",
    "The number of nodes in the list is in the range [0, 300].\n",
    "-100 <= Node.val <= 100\n",
    "The list is guaranteed to be sorted in ascending order."
   ]
  },
  {
   "cell_type": "code",
   "execution_count": 1,
   "id": "3079f946",
   "metadata": {},
   "outputs": [],
   "source": [
    "from typing import Optional\n",
    "\n",
    "# Definition for singly-linked list.\n",
    "class ListNode:\n",
    "    def __init__(self, val=0, next=None):\n",
    "        self.val = val\n",
    "        self.next = next\n",
    "\n",
    "class Solution:\n",
    "    def deleteDuplicates(self, head: Optional[ListNode]) -> Optional[ListNode]:\n",
    "        curr = head\n",
    "        dummy = ListNode(10000)\n",
    "        prev = dummy\n",
    "\n",
    "        while curr:\n",
    "            dup = False\n",
    "            while curr and curr.next and curr.val == curr.next.val:\n",
    "                dup = True\n",
    "                curr = curr.next\n",
    "\n",
    "            if not dup:\n",
    "                prev.next = curr\n",
    "                prev = prev.next\n",
    "\n",
    "            curr = curr.next\n",
    "            prev.next = None\n",
    "          \n",
    "        return dummy.next"
   ]
  },
  {
   "cell_type": "code",
   "execution_count": null,
   "id": "f262e6dd",
   "metadata": {},
   "outputs": [],
   "source": []
  }
 ],
 "metadata": {
  "kernelspec": {
   "display_name": "Python 3",
   "language": "python",
   "name": "python3"
  },
  "language_info": {
   "codemirror_mode": {
    "name": "ipython",
    "version": 3
   },
   "file_extension": ".py",
   "mimetype": "text/x-python",
   "name": "python",
   "nbconvert_exporter": "python",
   "pygments_lexer": "ipython3",
   "version": "3.12.1"
  }
 },
 "nbformat": 4,
 "nbformat_minor": 5
}
