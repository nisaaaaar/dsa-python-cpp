{
 "cells": [
  {
   "cell_type": "markdown",
   "id": "fef6db27",
   "metadata": {},
   "source": [
    "Given the head of a linked list and a value x, partition it such that all nodes less than x come before nodes greater than or equal to x.\n",
    "\n",
    "You should preserve the original relative order of the nodes in each of the two partitions.\n",
    "\n",
    " \n",
    "\n",
    "Example 1:\n",
    "\n",
    "\n",
    "Input: head = [1,4,3,2,5,2], x = 3\n",
    "Output: [1,2,2,4,3,5]\n",
    "Example 2:\n",
    "\n",
    "Input: head = [2,1], x = 2\n",
    "Output: [1,2]\n",
    " \n",
    "\n",
    "Constraints:\n",
    "\n",
    "The number of nodes in the list is in the range [0, 200].\n",
    "-100 <= Node.val <= 100\n",
    "-200 <= x <= 200"
   ]
  },
  {
   "cell_type": "markdown",
   "id": "16539944",
   "metadata": {},
   "source": []
  },
  {
   "cell_type": "code",
   "execution_count": 1,
   "id": "4a7bf041",
   "metadata": {},
   "outputs": [],
   "source": [
    "from typing import Optional\n",
    "# Definition for singly-linked list.\n",
    "class ListNode:\n",
    "    def __init__(self, val=0, next=None):\n",
    "        self.val = val\n",
    "        self.next = next\n",
    "class Solution:\n",
    "    def partition(self, head: Optional[ListNode], x: int) -> Optional[ListNode]:\n",
    "        smaller = ListNode()\n",
    "        stemp = smaller\n",
    "        greater = ListNode()\n",
    "        gtemp = greater\n",
    "\n",
    "        curr = head\n",
    "\n",
    "        while curr:\n",
    "            if curr.val < x:\n",
    "                stemp.next = curr\n",
    "                stemp = stemp.next\n",
    "                curr = curr.next\n",
    "                stemp.next = None\n",
    "            else:\n",
    "                gtemp.next = curr\n",
    "                gtemp = gtemp.next\n",
    "                curr = curr.next\n",
    "                gtemp.next = None\n",
    "            \n",
    "\n",
    "        stemp.next = greater.next\n",
    "\n",
    "        return smaller.next\n",
    "\n",
    "\n",
    "\n",
    "\n",
    "        "
   ]
  },
  {
   "cell_type": "code",
   "execution_count": null,
   "id": "433a7f2d",
   "metadata": {},
   "outputs": [],
   "source": []
  }
 ],
 "metadata": {
  "kernelspec": {
   "display_name": "Python 3",
   "language": "python",
   "name": "python3"
  },
  "language_info": {
   "codemirror_mode": {
    "name": "ipython",
    "version": 3
   },
   "file_extension": ".py",
   "mimetype": "text/x-python",
   "name": "python",
   "nbconvert_exporter": "python",
   "pygments_lexer": "ipython3",
   "version": "3.12.1"
  }
 },
 "nbformat": 4,
 "nbformat_minor": 5
}
