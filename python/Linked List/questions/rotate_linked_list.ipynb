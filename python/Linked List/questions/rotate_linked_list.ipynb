{
 "cells": [
  {
   "cell_type": "markdown",
   "id": "9bd8268f",
   "metadata": {},
   "source": [
    "Given the head of a linked list, rotate the list to the right by k places.\n",
    "\n",
    " \n",
    "\n",
    "Example 1:\n",
    "\n",
    "\n",
    "Input: head = [1,2,3,4,5], k = 2\n",
    "Output: [4,5,1,2,3]\n",
    "Example 2:\n",
    "\n",
    "\n",
    "Input: head = [0,1,2], k = 4\n",
    "Output: [2,0,1]"
   ]
  },
  {
   "cell_type": "code",
   "execution_count": 1,
   "id": "8e1d258b",
   "metadata": {},
   "outputs": [],
   "source": [
    "from typing import Optional\n",
    "# Definition for singly-linked list.\n",
    "class ListNode:\n",
    "    def __init__(self, val=0, next=None):\n",
    "        self.val = val\n",
    "        self.next = next\n",
    "class Solution:\n",
    "    def length(self, head):\n",
    "        temp = head\n",
    "        length = 0\n",
    "        while temp:\n",
    "            length += 1\n",
    "            temp=temp.next\n",
    "        return length\n",
    "\n",
    "    def rotateRight(self, head: Optional[ListNode], k: int) -> Optional[ListNode]:\n",
    "        if head == None or head.next == None:return head\n",
    "\n",
    "        length = self.length(head)\n",
    "        k = k % length\n",
    "\n",
    "        if k==0:return head\n",
    "\n",
    "        leftStart = head\n",
    "        leftEnd = head\n",
    "        rightEnd = head\n",
    "\n",
    "        while rightEnd.next:\n",
    "            rightEnd = rightEnd.next\n",
    "\n",
    "        for _ in range(length - k - 1):\n",
    "            leftEnd = leftEnd.next\n",
    "\n",
    "        head = leftEnd.next\n",
    "        rightEnd.next = leftStart\n",
    "        leftEnd.next = None\n",
    "\n",
    "        return head\n"
   ]
  },
  {
   "cell_type": "code",
   "execution_count": null,
   "id": "753c2bda",
   "metadata": {},
   "outputs": [],
   "source": []
  }
 ],
 "metadata": {
  "kernelspec": {
   "display_name": "Python 3",
   "language": "python",
   "name": "python3"
  },
  "language_info": {
   "codemirror_mode": {
    "name": "ipython",
    "version": 3
   },
   "file_extension": ".py",
   "mimetype": "text/x-python",
   "name": "python",
   "nbconvert_exporter": "python",
   "pygments_lexer": "ipython3",
   "version": "3.12.1"
  }
 },
 "nbformat": 4,
 "nbformat_minor": 5
}
