{
 "cells": [
  {
   "cell_type": "markdown",
   "id": "dd66854a",
   "metadata": {},
   "source": [
    ",4,3,2,5]\n",
    "Example 2:\n",
    "\n",
    "Input: head = [5], left = 1, right = 1\n",
    "Output: [5]\n",
    " \n",
    "\n",
    "Constraints:\n",
    "\n",
    "The number of nodes in the list is n.\n",
    "1 <= n <= 500\n",
    "-500 <= Node.val <= 500\n",
    "1 <= left <= right <= n"
   ]
  },
  {
   "cell_type": "code",
   "execution_count": 1,
   "id": "6a2dde36",
   "metadata": {},
   "outputs": [],
   "source": [
    "from typing import Optional\n",
    "\n",
    "class ListNode:\n",
    "    def __init__(self, val=0, next=None):\n",
    "        self.val = val\n",
    "        self.next = next\n",
    "\n",
    "class Solution:\n",
    "    def reverseBetween(self, head: Optional[ListNode], left: int, right: int) -> Optional[ListNode]:\n",
    "        if not head or left == right:\n",
    "            return head\n",
    "\n",
    "        dummy = ListNode(-1)\n",
    "        dummy.next = head\n",
    "        prev = dummy\n",
    "        \n",
    "        for _ in range(left - 1):\n",
    "            prev = prev.next\n",
    "\n",
    "        curr = prev.next\n",
    "\n",
    "        prev_rev = None\n",
    "        rev_start = curr\n",
    "        for _ in range(right - left + 1):\n",
    "            next_ = curr.next\n",
    "            curr.next = prev_rev\n",
    "            prev_rev = curr\n",
    "            curr = next_\n",
    "\n",
    "        prev.next = prev_rev\n",
    "        rev_start.next = curr\n",
    "\n",
    "        return dummy.next"
   ]
  },
  {
   "cell_type": "code",
   "execution_count": null,
   "id": "5469b915",
   "metadata": {},
   "outputs": [],
   "source": []
  }
 ],
 "metadata": {
  "kernelspec": {
   "display_name": "Python 3",
   "language": "python",
   "name": "python3"
  },
  "language_info": {
   "codemirror_mode": {
    "name": "ipython",
    "version": 3
   },
   "file_extension": ".py",
   "mimetype": "text/x-python",
   "name": "python",
   "nbconvert_exporter": "python",
   "pygments_lexer": "ipython3",
   "version": "3.12.1"
  }
 },
 "nbformat": 4,
 "nbformat_minor": 5
}
