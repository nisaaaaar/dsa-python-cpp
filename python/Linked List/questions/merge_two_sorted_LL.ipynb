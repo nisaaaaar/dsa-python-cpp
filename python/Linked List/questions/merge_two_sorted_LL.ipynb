{
 "cells": [
  {
   "cell_type": "markdown",
   "id": "f7464917",
   "metadata": {},
   "source": [
    "You are given the heads of two sorted linked lists list1 and list2.\n",
    "\n",
    "Merge the two lists into one sorted list. The list should be made by splicing together the nodes of the first two lists.\n",
    "\n",
    "Return the head of the merged linked list.\n",
    "\n",
    " \n",
    "\n",
    "Example 1:\n",
    "\n",
    "\n",
    "Input: list1 = [1,2,4], list2 = [1,3,4]\n",
    "Output: [1,1,2,3,4,4]\n",
    "Example 2:\n",
    "\n",
    "Input: list1 = [], list2 = []\n",
    "Output: []\n",
    "Example 3:\n",
    "\n",
    "Input: list1 = [], list2 = [0]\n",
    "Output: [0]\n",
    " \n",
    "\n",
    "Constraints:\n",
    "\n",
    "The number of nodes in both lists is in the range [0, 50].\n",
    "-100 <= Node.val <= 100\n",
    "Both list1 and list2 are sorted in non-decreasing order."
   ]
  },
  {
   "cell_type": "code",
   "execution_count": 1,
   "id": "95c2d95d",
   "metadata": {},
   "outputs": [],
   "source": [
    "from typing import Optional\n",
    "\n",
    "# Definition for singly-linked list.\n",
    "class ListNode:\n",
    "    def __init__(self, val=0, next=None):\n",
    "        self.val = val\n",
    "        self.next = next\n",
    "\n",
    "class Solution:\n",
    "    def mergeTwoLists(self, list1: Optional[ListNode], list2: Optional[ListNode]) -> Optional[ListNode]:\n",
    "        t1 = list1\n",
    "        t2 = list2\n",
    "        dummy_node = ListNode(-1)\n",
    "        temp = dummy_node\n",
    "        while t1 and t2:\n",
    "            if t1.val<=t2.val:\n",
    "                temp.next = t1\n",
    "                temp = temp.next\n",
    "                t1 = t1.next\n",
    "            else:\n",
    "                # f = t2.next\n",
    "                temp.next = t2\n",
    "                temp = temp.next\n",
    "                t2 = t2.next\n",
    "        while t1:\n",
    "            temp.next = t1\n",
    "            temp = temp.next\n",
    "            t1 = t1.next\n",
    "        while t2:\n",
    "            temp.next = t2\n",
    "            temp = temp.next\n",
    "            t2 = t2.next\n",
    "        return dummy_node.next\n",
    "                "
   ]
  },
  {
   "cell_type": "code",
   "execution_count": null,
   "id": "c3660069",
   "metadata": {},
   "outputs": [],
   "source": []
  }
 ],
 "metadata": {
  "kernelspec": {
   "display_name": "Python 3",
   "language": "python",
   "name": "python3"
  },
  "language_info": {
   "codemirror_mode": {
    "name": "ipython",
    "version": 3
   },
   "file_extension": ".py",
   "mimetype": "text/x-python",
   "name": "python",
   "nbconvert_exporter": "python",
   "pygments_lexer": "ipython3",
   "version": "3.12.1"
  }
 },
 "nbformat": 4,
 "nbformat_minor": 5
}
