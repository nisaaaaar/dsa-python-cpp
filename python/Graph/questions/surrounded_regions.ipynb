{
 "cells": [
  {
   "cell_type": "markdown",
   "id": "7850ac6e",
   "metadata": {},
   "source": [
    "## Surrounded Regions\n",
    "\n",
    "You are given an m x n matrix board containing letters 'X' and 'O', capture regions that are surrounded:\n",
    "\n",
    "Connect: A cell is connected to adjacent cells horizontally or vertically.\n",
    "Region: To form a region connect every 'O' cell.\n",
    "Surround: The region is surrounded with 'X' cells if you can connect the region with 'X' cells and none of the region cells are on the edge of the board.\n",
    "To capture a surrounded region, replace all 'O's with 'X's in-place within the original board. You do not need to return anything.\n",
    "\n",
    "Example 1:\n",
    "Input: board = [[\"X\",\"X\",\"X\",\"X\"],[\"X\",\"O\",\"O\",\"X\"],[\"X\",\"X\",\"O\",\"X\"],[\"X\",\"O\",\"X\",\"X\"]]\n",
    "Output: [[\"X\",\"X\",\"X\",\"X\"],[\"X\",\"X\",\"X\",\"X\"],[\"X\",\"X\",\"X\",\"X\"],[\"X\",\"O\",\"X\",\"X\"]]\n",
    "Explanation:\n",
    "In the above diagram, the bottom region is not captured because it is on the edge of the board and cannot be surrounded.\n",
    "\n",
    "Example 2:\n",
    "Input: board = [[\"X\"]]\n",
    "Output: [[\"X\"]]\n",
    "\n",
    "Constraints:\n",
    "m == board.length\n",
    "n == board[i].length\n",
    "1 <= m, n <= 200\n",
    "board[i][j] is 'X' or 'O'."
   ]
  },
  {
   "cell_type": "code",
   "execution_count": 1,
   "id": "a077a48b",
   "metadata": {},
   "outputs": [],
   "source": [
    "from collections import deque\n",
    "from typing import List\n",
    "\n",
    "class Solution:\n",
    "    def solve(self, board: List[List[str]]) -> None:\n",
    "        \"\"\"\n",
    "        Do not return anything, modify board in-place instead.\n",
    "        \"\"\"\n",
    "\n",
    "        m = len(board)\n",
    "        n = len(board[0])\n",
    "\n",
    "        dr = [-1, 1, 0, 0]\n",
    "        dc = [0, 0, -1, 1]\n",
    "\n",
    "        q = deque()\n",
    "\n",
    "        for row in range(m):\n",
    "            if board[row][0] == \"O\":\n",
    "                q.append([row, 0])\n",
    "            if board[row][n-1] == \"O\":\n",
    "                q.append([row, n-1])\n",
    "        for col in range(n):\n",
    "            if board[0][col] == \"O\":\n",
    "                q.append([0, col])\n",
    "            if board[m-1][col] == \"O\":\n",
    "                q.append([m-1, col])\n",
    "\n",
    "        while q:\n",
    "            row, col = q.popleft()\n",
    "\n",
    "            board[row][col] = \"$\"\n",
    "\n",
    "            for k in range(4):\n",
    "                nr = row + dr[k]\n",
    "                nc = col + dc[k]\n",
    "\n",
    "                if 0<=nr<m and 0<=nc<n and board[nr][nc] == \"O\":\n",
    "                    q.append([nr, nc])\n",
    "\n",
    "        for i in range(m):\n",
    "            for j in range(n):\n",
    "                if board[i][j] == \"$\":\n",
    "                    board[i][j] = \"O\"\n",
    "                else:\n",
    "                    board[i][j] = \"X\"\n"
   ]
  },
  {
   "cell_type": "markdown",
   "id": "e878e6a5",
   "metadata": {},
   "source": []
  }
 ],
 "metadata": {
  "kernelspec": {
   "display_name": "Python 3",
   "language": "python",
   "name": "python3"
  },
  "language_info": {
   "codemirror_mode": {
    "name": "ipython",
    "version": 3
   },
   "file_extension": ".py",
   "mimetype": "text/x-python",
   "name": "python",
   "nbconvert_exporter": "python",
   "pygments_lexer": "ipython3",
   "version": "3.12.1"
  }
 },
 "nbformat": 4,
 "nbformat_minor": 5
}
