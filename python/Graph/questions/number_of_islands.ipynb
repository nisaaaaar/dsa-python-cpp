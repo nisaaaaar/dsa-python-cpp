{
 "cells": [
  {
   "cell_type": "markdown",
   "id": "057adfbd",
   "metadata": {},
   "source": [
    "## Number of Islands\n",
    "Given an m x n 2D binary grid grid which represents a map of '1's (land) and '0's (water), return the number of islands.\n",
    "\n",
    "An island is surrounded by water and is formed by connecting adjacent lands horizontally or vertically. You may assume all\n",
    "four edges of the grid are all surrounded by water.\n",
    "\n",
    "Example 1:\n",
    "\n",
    "Input: grid = [\n",
    "  [\"1\",\"1\",\"1\",\"1\",\"0\"],\n",
    "  [\"1\",\"1\",\"0\",\"1\",\"0\"],\n",
    "  [\"1\",\"1\",\"0\",\"0\",\"0\"],\n",
    "  [\"0\",\"0\",\"0\",\"0\",\"0\"]\n",
    "]\n",
    "Output: 1\n",
    "Example 2:\n",
    "\n",
    "Input: grid = [\n",
    "  [\"1\",\"1\",\"0\",\"0\",\"0\"],\n",
    "  [\"1\",\"1\",\"0\",\"0\",\"0\"],\n",
    "  [\"0\",\"0\",\"1\",\"0\",\"0\"],\n",
    "  [\"0\",\"0\",\"0\",\"1\",\"1\"]\n",
    "]\n",
    "Output: 3\n",
    "\n",
    "Constraints:\n",
    "m == grid.length\n",
    "n == grid[i].length\n",
    "1 <= m, n <= 300\n",
    "grid[i][j] is '0' or '1'."
   ]
  },
  {
   "cell_type": "code",
   "execution_count": 2,
   "id": "f251c245",
   "metadata": {},
   "outputs": [],
   "source": [
    "class Solution:\n",
    "\n",
    "    def dfs(self, row, col, n, m, vis, mat):\n",
    "        if 0>row or row>=m or 0>col or col>=n or vis[row][col] or mat[row][col]==\"0\":\n",
    "            return\n",
    "        vis[row][col] = True\n",
    "        self.dfs(row + 1, col, n, m, vis, mat)\n",
    "        self.dfs(row - 1, col, n, m, vis, mat)\n",
    "        self.dfs(row, col + 1, n, m, vis, mat)\n",
    "        self.dfs(row, col - 1, n, m, vis, mat)\n",
    "\n",
    "    def numIslands(self, grid) -> int:\n",
    "        m = len(grid)\n",
    "        n = len(grid[0])\n",
    "        island_count = 0\n",
    "        vis = [[False]*n for _ in range(m)]\n",
    "\n",
    "        for row in range(m):\n",
    "            for col in range(n):\n",
    "                if not vis[row][col] and grid[row][col] == \"1\":\n",
    "                    island_count += 1\n",
    "                    self.dfs(row, col, n, m, vis, grid)\n",
    "\n",
    "        return island_count"
   ]
  },
  {
   "cell_type": "markdown",
   "id": "545fc700",
   "metadata": {},
   "source": []
  }
 ],
 "metadata": {
  "kernelspec": {
   "display_name": "Python 3",
   "language": "python",
   "name": "python3"
  },
  "language_info": {
   "codemirror_mode": {
    "name": "ipython",
    "version": 3
   },
   "file_extension": ".py",
   "mimetype": "text/x-python",
   "name": "python",
   "nbconvert_exporter": "python",
   "pygments_lexer": "ipython3",
   "version": "3.12.1"
  }
 },
 "nbformat": 4,
 "nbformat_minor": 5
}
