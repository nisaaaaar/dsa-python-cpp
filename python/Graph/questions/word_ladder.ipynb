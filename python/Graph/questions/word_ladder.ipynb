{
 "cells": [
  {
   "cell_type": "markdown",
   "id": "4c4ceb90",
   "metadata": {},
   "source": [
    "### Word Ladder\n",
    "\n",
    "A transformation sequence from word beginWord to word endWord using a dictionary wordList is a sequence of words beginWord -> s1 -> s2 -> ... -> sk such that:\n",
    "\n",
    "Every adjacent pair of words differs by a single letter.\n",
    "Every si for 1 <= i <= k is in wordList. Note that beginWord does not need to be in wordList.\n",
    "sk == endWord\n",
    "Given two words, beginWord and endWord, and a dictionary wordList, return the number of words in the shortest transformation sequence from beginWord to endWord, or 0 if no such sequence exists.\n",
    "\n",
    " \n",
    "\n",
    "Example 1:\n",
    "\n",
    "Input: beginWord = \"hit\", endWord = \"cog\", wordList = [\"hot\",\"dot\",\"dog\",\"lot\",\"log\",\"cog\"]\n",
    "Output: 5\n",
    "Explanation: One shortest transformation sequence is \"hit\" -> \"hot\" -> \"dot\" -> \"dog\" -> cog\", which is 5 words long.\n",
    "Example 2:\n",
    "\n",
    "Input: beginWord = \"hit\", endWord = \"cog\", wordList = [\"hot\",\"dot\",\"dog\",\"lot\",\"log\"]\n",
    "Output: 0\n",
    "Explanation: The endWord \"cog\" is not in wordList, therefore there is no valid transformation sequence.\n",
    " \n",
    "\n",
    "Constraints:\n",
    "\n",
    "1 <= beginWord.length <= 10\n",
    "endWord.length == beginWord.length\n",
    "1 <= wordList.length <= 5000\n",
    "wordList[i].length == beginWord.length\n",
    "beginWord, endWord, and wordList[i] consist of lowercase English letters.\n",
    "beginWord != endWord\n",
    "All the words in wordList are unique."
   ]
  },
  {
   "cell_type": "code",
   "execution_count": 1,
   "id": "6b909507",
   "metadata": {},
   "outputs": [],
   "source": [
    "from collections import deque\n",
    "from typing import List \n",
    "class Solution:\n",
    "    def ladderLength(self, beginWord: str, endWord: str, wordList: List[str]) -> int:\n",
    "        wordSet = set(wordList)\n",
    "        q = deque()\n",
    "        q.append([beginWord, 0])\n",
    "\n",
    "        while q:\n",
    "            word, ans = q.popleft()\n",
    "\n",
    "            if word == endWord:\n",
    "                return ans + 1\n",
    "\n",
    "            for i in range(len(word)):\n",
    "                for j in range(26):\n",
    "                    oldWord = list(word)\n",
    "                    oldWord[i] = chr(ord('a') + j)\n",
    "                    newWord = \"\".join(oldWord)\n",
    "\n",
    "                    if newWord in wordSet:\n",
    "                        q.append([newWord, ans + 1])\n",
    "                        wordSet.remove(newWord)\n",
    "\n",
    "        return 0"
   ]
  },
  {
   "cell_type": "code",
   "execution_count": null,
   "id": "1f753e92",
   "metadata": {},
   "outputs": [],
   "source": []
  }
 ],
 "metadata": {
  "kernelspec": {
   "display_name": "Python 3",
   "language": "python",
   "name": "python3"
  },
  "language_info": {
   "codemirror_mode": {
    "name": "ipython",
    "version": 3
   },
   "file_extension": ".py",
   "mimetype": "text/x-python",
   "name": "python",
   "nbconvert_exporter": "python",
   "pygments_lexer": "ipython3",
   "version": "3.12.1"
  }
 },
 "nbformat": 4,
 "nbformat_minor": 5
}
