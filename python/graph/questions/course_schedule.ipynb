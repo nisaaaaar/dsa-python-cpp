{
 "cells": [
  {
   "cell_type": "markdown",
   "id": "0e7b1217",
   "metadata": {},
   "source": [
    "### Course Schedule\n",
    "There are a total of numCourses courses you have to take, labeled from 0 to numCourses - 1. You are given an array prerequisites where prerequisites[i] = [ai, bi] indicates that you must take course bi first if you want to take course ai.\n",
    "\n",
    "For example, the pair [0, 1], indicates that to take course 0 you have to first take course 1.\n",
    "Return true if you can finish all courses. Otherwise, return false.\n",
    "\n",
    " \n",
    "\n",
    "Example 1:\n",
    "\n",
    "Input: numCourses = 2, prerequisites = [[1,0]]\n",
    "Output: true\n",
    "Explanation: There are a total of 2 courses to take. \n",
    "To take course 1 you should have finished course 0. So it is possible.\n",
    "Example 2:\n",
    "\n",
    "Input: numCourses = 2, prerequisites = [[1,0],[0,1]]\n",
    "Output: false\n",
    "Explanation: There are a total of 2 courses to take. \n",
    "To take course 1 you should have finished course 0, and to take course 0 you should also have finished course 1. So it is impossible.\n",
    " \n",
    "\n",
    "Constraints:\n",
    "\n",
    "1 <= numCourses <= 2000\n",
    "0 <= prerequisites.length <= 5000\n",
    "prerequisites[i].length == 2\n",
    "0 <= ai, bi < numCourses\n",
    "All the pairs prerequisites[i] are unique."
   ]
  },
  {
   "cell_type": "code",
   "execution_count": 4,
   "id": "e112a757",
   "metadata": {},
   "outputs": [],
   "source": [
    "from collections import defaultdict\n",
    "from collections import deque\n",
    "from typing import List \n",
    "class Solution:\n",
    "    def buildAdjacencyList(self, n, edgesList):\n",
    "        adjList = defaultdict(list)\n",
    "        indegree = [0]*(n)\n",
    "        for u, v in edgesList:\n",
    "            adjList[v].append(u)\n",
    "            indegree[u] += 1\n",
    "        return (adjList, indegree)\n",
    "    def hasCycle(self, n, adjList, indegree):\n",
    "        q = deque()\n",
    "        # topo = []\n",
    "        count = 0\n",
    "\n",
    "        for u in range(len(indegree)):\n",
    "            if indegree[u] == 0:\n",
    "                q.append(u)\n",
    "        \n",
    "        while q:\n",
    "            node = q.popleft()\n",
    "            # topo.append(node)\n",
    "            count += 1\n",
    "            for nei in adjList[node]:\n",
    "                indegree[nei] -= 1\n",
    "                if indegree[nei] == 0:\n",
    "                    q.append(nei)\n",
    "\n",
    "        # return len(topo)==n\n",
    "        # print(topo)\n",
    "        return count==n\n",
    "\n",
    "\n",
    "    def canFinish(self, numCourses: int, prerequisites: List[List[int]]) -> bool:\n",
    "        adjList, indegree = self.buildAdjacencyList(numCourses, prerequisites)\n",
    "        return self.hasCycle(numCourses, adjList, indegree)"
   ]
  },
  {
   "cell_type": "code",
   "execution_count": null,
   "id": "14239a5c",
   "metadata": {},
   "outputs": [],
   "source": []
  }
 ],
 "metadata": {
  "kernelspec": {
   "display_name": "Python 3",
   "language": "python",
   "name": "python3"
  },
  "language_info": {
   "codemirror_mode": {
    "name": "ipython",
    "version": 3
   },
   "file_extension": ".py",
   "mimetype": "text/x-python",
   "name": "python",
   "nbconvert_exporter": "python",
   "pygments_lexer": "ipython3",
   "version": "3.12.1"
  }
 },
 "nbformat": 4,
 "nbformat_minor": 5
}
