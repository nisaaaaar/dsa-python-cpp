{
 "cells": [
  {
   "cell_type": "markdown",
   "id": "7a59277b",
   "metadata": {},
   "source": [
    "A gene string can be represented by an 8-character long string, with choices from 'A', 'C', 'G', and 'T'.\n",
    "\n",
    "Suppose we need to investigate a mutation from a gene string startGene to a gene string endGene where one mutation is defined as one single character changed in the gene string.\n",
    "\n",
    "For example, \"AACCGGTT\" --> \"AACCGGTA\" is one mutation.\n",
    "There is also a gene bank bank that records all the valid gene mutations. A gene must be in bank to make it a valid gene string.\n",
    "\n",
    "Given the two gene strings startGene and endGene and the gene bank bank, return the minimum number of mutations needed to mutate from startGene to endGene. If there is no such a mutation, return -1.\n",
    "\n",
    "Note that the starting point is assumed to be valid, so it might not be included in the bank.\n",
    "\n",
    " \n",
    "\n",
    "Example 1:\n",
    "\n",
    "Input: startGene = \"AACCGGTT\", endGene = \"AACCGGTA\", bank = [\"AACCGGTA\"]\n",
    "Output: 1\n",
    "Example 2:\n",
    "\n",
    "Input: startGene = \"AACCGGTT\", endGene = \"AAACGGTA\", bank = [\"AACCGGTA\",\"AACCGCTA\",\"AAACGGTA\"]\n",
    "Output: 2\n",
    " \n",
    "\n",
    "Constraints:\n",
    "\n",
    "0 <= bank.length <= 10\n",
    "startGene.length == endGene.length == bank[i].length == 8\n",
    "startGene, endGene, and bank[i] consist of only the characters ['A', 'C', 'G', 'T']."
   ]
  },
  {
   "cell_type": "code",
   "execution_count": 1,
   "id": "646675dd",
   "metadata": {},
   "outputs": [],
   "source": [
    "from collections import deque\n",
    "from typing import List\n",
    "class Solution:\n",
    "    def minMutation(self, startGene: str, endGene: str, bank: List[str]) -> int:\n",
    "        choices = \"ACGT\"\n",
    "        bank = set(bank)\n",
    "\n",
    "        q = deque()\n",
    "        q.append([startGene, 0])\n",
    "\n",
    "        while q:\n",
    "            gene, numberOfMutation = q.popleft()\n",
    "\n",
    "            if gene == endGene:\n",
    "                return numberOfMutation\n",
    "\n",
    "            for i in range(len(gene)):\n",
    "                for ch in choices:\n",
    "                    newGene = gene[:i] + ch + gene[i+1:]\n",
    "\n",
    "                    if newGene in bank:\n",
    "                        q.append([newGene, numberOfMutation + 1])\n",
    "                        bank.remove(newGene)\n",
    "\n",
    "        return -1"
   ]
  },
  {
   "cell_type": "code",
   "execution_count": null,
   "id": "ec92de8e",
   "metadata": {},
   "outputs": [],
   "source": []
  }
 ],
 "metadata": {
  "kernelspec": {
   "display_name": "Python 3",
   "language": "python",
   "name": "python3"
  },
  "language_info": {
   "codemirror_mode": {
    "name": "ipython",
    "version": 3
   },
   "file_extension": ".py",
   "mimetype": "text/x-python",
   "name": "python",
   "nbconvert_exporter": "python",
   "pygments_lexer": "ipython3",
   "version": "3.12.1"
  }
 },
 "nbformat": 4,
 "nbformat_minor": 5
}
